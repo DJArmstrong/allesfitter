{
 "cells": [
  {
   "cell_type": "code",
   "execution_count": 1,
   "metadata": {},
   "outputs": [
    {
     "data": {
      "text/html": [
       "<script>\n",
       "code_show=true; \n",
       "function code_toggle() {\n",
       " if (code_show){\n",
       " $('div.input').hide();\n",
       " } else {\n",
       " $('div.input').show();\n",
       " }\n",
       " code_show = !code_show\n",
       "} \n",
       "$( document ).ready(code_toggle);\n",
       "</script>\n",
       "<form action=\"javascript:code_toggle()\"><input type=\"submit\" value=\"Click here to toggle on/off the raw code.\"></form>"
      ],
      "text/plain": [
       "<IPython.core.display.HTML object>"
      ]
     },
     "execution_count": 1,
     "metadata": {},
     "output_type": "execute_result"
    }
   ],
   "source": [
    "from IPython.display import HTML\n",
    "\n",
    "HTML('''<script>\n",
    "code_show=true; \n",
    "function code_toggle() {\n",
    " if (code_show){\n",
    " $('div.input').hide();\n",
    " } else {\n",
    " $('div.input').show();\n",
    " }\n",
    " code_show = !code_show\n",
    "} \n",
    "$( document ).ready(code_toggle);\n",
    "</script>\n",
    "<form action=\"javascript:code_toggle()\"><input type=\"submit\" value=\"Click here to toggle on/off the raw code.\"></form>''')"
   ]
  },
  {
   "cell_type": "code",
   "execution_count": 2,
   "metadata": {},
   "outputs": [
    {
     "data": {
      "text/html": [
       "<style>.container { width:80% !important; }</style>"
      ],
      "text/plain": [
       "<IPython.core.display.HTML object>"
      ]
     },
     "metadata": {},
     "output_type": "display_data"
    }
   ],
   "source": [
    "\"\"\"\n",
    "Created on Tue Nov  2 20:31:38 2018\n",
    "\n",
    "@author:\n",
    "Maximilian N. Günther\n",
    "MIT Kavli Institute for Astrophysics and Space Research, \n",
    "Massachusetts Institute of Technology,\n",
    "77 Massachusetts Avenue,\n",
    "Cambridge, MA 02109, \n",
    "USA\n",
    "Email: maxgue@mit.edu\n",
    "Web: www.mnguenther.com\n",
    "\"\"\"\n",
    "\n",
    "from __future__ import print_function, division, absolute_import\n",
    "\n",
    "#::: plotting settings\n",
    "import seaborn as sns\n",
    "sns.set(context='paper', style='ticks', palette='deep', font='sans-serif', font_scale=1.5, color_codes=True)\n",
    "sns.set_style({\"xtick.direction\": \"in\",\"ytick.direction\": \"in\"})\n",
    "sns.set_context(rc={'lines.markeredgewidth': 1})\n",
    "\n",
    "#::: modules\n",
    "import numpy as np\n",
    "import os, sys\n",
    "import csv\n",
    "import ipywidgets as widgets\n",
    "from IPython.display import display, Markdown, clear_output, Javascript\n",
    "display(HTML(\"<style>.container { width:80% !important; }</style>\"))\n",
    "from multiprocessing import cpu_count\n",
    "if sys.version_info[0] == 3: # for Python3\n",
    "    from tkinter import Tk, filedialog\n",
    "elif sys.version_info[0] == 2: # for Python2\n",
    "    from Tkinter import Tk\n",
    "    import tkFileDialog as filedialog\n",
    "import warnings\n",
    "def custom_formatwarning(msg, *args, **kwargs):\n",
    "    return str(msg) + '\\n'\n",
    "warnings.formatwarning = custom_formatwarning\n",
    "    \n",
    "#::: allesfitter modules\n",
    "#::: somehow jupyter notebooks don't allow relative imports, so it needs a little hack...\n",
    "module_path = os.path.abspath(os.path.join('..'))\n",
    "if module_path not in sys.path: sys.path.append(module_path)\n",
    "import allesfitter\n",
    "from allesfitter.utils.latex_printer import round_txt_separately\n",
    "from allesfitter.priors.transform_priors import get_cosi_from_i, get_Rsuma_from_a_over_Rstar, get_Rsuma_from_Rstar_over_a\n",
    "from allesfitter.priors.estimate_noise import estimate_noise\n",
    "\n",
    "%load_ext autoreload\n",
    "%autoreload 2"
   ]
  },
  {
   "cell_type": "code",
   "execution_count": 3,
   "metadata": {},
   "outputs": [],
   "source": [
    "#::: globals\n",
    "global INPUT\n",
    "INPUT = {}\n",
    "INPUT['show_step_2'] = False\n",
    "INPUT['show_step_3'] = False\n",
    "INPUT['show_step_4'] = False\n",
    "INPUT['show_step_5'] = False\n",
    "layout = {'width': '180px'}\n",
    "layout_textbox = {'width': '120px'}\n",
    "layout_checkbox = {}"
   ]
  },
  {
   "cell_type": "code",
   "execution_count": 4,
   "metadata": {},
   "outputs": [],
   "source": [
    "#:::: clean up csv \n",
    "def clean_up_csv(fname, N_last_rows=0):\n",
    "    \n",
    "    with open(fname, \"r\") as f:\n",
    "        params_csv = list(csv.reader(f))\n",
    "\n",
    "    with open(fname, \"w\") as f:\n",
    "        writer = csv.writer(f)\n",
    "        for i in range(len(params_csv)-N_last_rows):\n",
    "            row = params_csv[i]\n",
    "            writer.writerow(row)"
   ]
  },
  {
   "cell_type": "markdown",
   "metadata": {},
   "source": [
    "# 1) allesfitter working directory"
   ]
  },
  {
   "cell_type": "markdown",
   "metadata": {},
   "source": [
    "Select the working directory for this fit, for example `/Users/me/TESS-1b/`.\n",
    "\n",
    "You can then later run a fit using `allesfitter.ns_fit('/Users/me/TESS-1b/')`."
   ]
  },
  {
   "cell_type": "code",
   "execution_count": 5,
   "metadata": {},
   "outputs": [
    {
     "data": {
      "application/vnd.jupyter.widget-view+json": {
       "model_id": "16d55b788dab43b392ace925285c8ccd",
       "version_major": 2,
       "version_minor": 0
      },
      "text/plain": [
       "SEJveChjaGlsZHJlbj0oQnV0dG9uKGRlc2NyaXB0aW9uPXUnU2VsZWN0IGRpcmVjdG9yeScsIHN0eWxlPUJ1dHRvblN0eWxlKCkpLCBUZXh0KHZhbHVlPXUnJywgcGxhY2Vob2xkZXI9dSdmb3LigKY=\n"
      ]
     },
     "metadata": {},
     "output_type": "display_data"
    },
    {
     "name": "stdout",
     "output_type": "stream",
     "text": [
      "Done.\n"
     ]
    },
    {
     "data": {
      "application/javascript": [
       "IPython.notebook.execute_cell_range(IPython.notebook.get_selected_index()+1, IPython.notebook.ncells())"
      ],
      "text/plain": [
       "<IPython.core.display.Javascript object>"
      ]
     },
     "metadata": {},
     "output_type": "display_data"
    }
   ],
   "source": [
    "button_set_af_directory = widgets.Button(description='Select directory', button_style='')\n",
    "text_af_directory = widgets.Text(value='', placeholder='for example: /Users/me/TESS-1b/', disable=True)\n",
    "hbox = widgets.HBox([button_set_af_directory, text_af_directory])\n",
    "display(hbox)\n",
    "\n",
    "def select_datadir(change):\n",
    "    root = Tk()\n",
    "    root.withdraw()\n",
    "    root.call('wm', 'attributes', '.', '-topmost', True)\n",
    "    INPUT['datadir'] = filedialog.askdirectory()\n",
    "    %gui tk\n",
    "    if INPUT['datadir'] != '':\n",
    "        text_af_directory.value = INPUT['datadir']\n",
    "        button_set_af_directory.style.button_color = 'lightgreen'\n",
    "        print('Done.')\n",
    "        INPUT['show_step_2'] = True\n",
    "        display(Javascript('IPython.notebook.execute_cell_range(IPython.notebook.get_selected_index()+1, IPython.notebook.ncells())'))\n",
    "button_set_af_directory.on_click(select_datadir)"
   ]
  },
  {
   "cell_type": "markdown",
   "metadata": {},
   "source": [
    "# 2) settings (settings.csv)"
   ]
  },
  {
   "cell_type": "code",
   "execution_count": 12,
   "metadata": {},
   "outputs": [
    {
     "data": {
      "text/markdown": [
       "### General settings"
      ],
      "text/plain": [
       "<IPython.core.display.Markdown object>"
      ]
     },
     "metadata": {},
     "output_type": "display_data"
    },
    {
     "data": {
      "text/markdown": [
       "Give the planet letters and instruments, space-separated. Leave empty if not applicable."
      ],
      "text/plain": [
       "<IPython.core.display.Markdown object>"
      ]
     },
     "metadata": {},
     "output_type": "display_data"
    },
    {
     "data": {
      "application/vnd.jupyter.widget-view+json": {
       "model_id": "1ba056d134f446fa8474727a3422e17b",
       "version_major": 2,
       "version_minor": 0
      },
      "text/plain": [
       "VkJveChjaGlsZHJlbj0oSEJveChjaGlsZHJlbj0oTGFiZWwodmFsdWU9dSdQbGFuZXRzIGluIHBob3RvbWV0cmljIGRhdGEnLCBsYXlvdXQ9TGF5b3V0KHdpZHRoPXUnMTgwcHgnKSksIFRleHTigKY=\n"
      ]
     },
     "metadata": {},
     "output_type": "display_data"
    },
    {
     "data": {
      "text/markdown": [
       "### Fit performance settings"
      ],
      "text/plain": [
       "<IPython.core.display.Markdown object>"
      ]
     },
     "metadata": {},
     "output_type": "display_data"
    },
    {
     "data": {
      "application/vnd.jupyter.widget-view+json": {
       "model_id": "af789c0d49ec4d91889eefa1ca3cafa3",
       "version_major": 2,
       "version_minor": 0
      },
      "text/plain": [
       "VkJveChjaGlsZHJlbj0oSEJveChjaGlsZHJlbj0oTGFiZWwodmFsdWU9dSdGYXN0IGZpdD8nLCBsYXlvdXQ9TGF5b3V0KHdpZHRoPXUnMTgwcHgnKSksIERyb3Bkb3duKG9wdGlvbnM9KCdObyfigKY=\n"
      ]
     },
     "metadata": {},
     "output_type": "display_data"
    },
    {
     "data": {
      "text/markdown": [
       "### Advanced settings"
      ],
      "text/plain": [
       "<IPython.core.display.Markdown object>"
      ]
     },
     "metadata": {},
     "output_type": "display_data"
    },
    {
     "data": {
      "text/markdown": [
       "All advanced settings will be set to the default values. These can be changed manually in the settings.csv file later. This includes choices for limb darkening, baselines, errors & jitter."
      ],
      "text/plain": [
       "<IPython.core.display.Markdown object>"
      ]
     },
     "metadata": {},
     "output_type": "display_data"
    }
   ],
   "source": [
    "if INPUT['show_step_2'] == False:\n",
    "    print('Complete step 1) first.')\n",
    "\n",
    "else:\n",
    "    display(Markdown('### General settings'))\n",
    "    display(Markdown('Give the planet letters and instruments, space-separated. Leave empty if not applicable.'))\n",
    "    \n",
    "    text_planets_phot = widgets.Text(value='', placeholder='for example: b')\n",
    "    hbox_planets_phot = widgets.HBox([widgets.Label(value='Planets in photometric data', layout=layout), text_planets_phot])\n",
    "\n",
    "    text_planets_rv = widgets.Text(value='', placeholder='for example: b c')\n",
    "    hbox_planets_rv = widgets.HBox([widgets.Label(value='Planets in RV data', layout=layout), text_planets_rv])\n",
    "\n",
    "    text_inst_phot = widgets.Text(value='', placeholder='for example: TESS NGTS')\n",
    "    hbox_inst_phot = widgets.HBox([widgets.Label(value='Instruments for photometry', layout=layout), text_inst_phot])\n",
    "\n",
    "    text_inst_rv = widgets.Text(value='', placeholder='for example: HARPS Coralie')\n",
    "    hbox_inst_rv = widgets.HBox([widgets.Label(value='Instruments for RV', layout=layout), text_inst_rv])\n",
    "\n",
    "    vbox_general_settings = widgets.VBox([hbox_planets_phot, hbox_planets_rv, hbox_inst_phot, hbox_inst_rv])\n",
    "    display(vbox_general_settings)\n",
    "    \n",
    "    \n",
    "    \n",
    "    display(Markdown('### Fit performance settings'))\n",
    "        \n",
    "    dropdown_fast_fit = widgets.Dropdown(options=['No', 'Yes, only keep transit', 'Yes, keep transit and occultation'])\n",
    "    hbox_fast_fit = widgets.HBox([widgets.Label(value='Fast fit?', layout=layout), dropdown_fast_fit])\n",
    "    \n",
    "    dropdown_secondary_eclipse = widgets.Dropdown(options=['No', 'Yes'])\n",
    "    hbox_secondary_eclipse = widgets.HBox([widgets.Label(value='Secondary eclipse?', layout=layout), dropdown_secondary_eclipse])\n",
    "    \n",
    "    max_cores = cpu_count()\n",
    "    dropdown_multiprocessing = widgets.Dropdown(options=['No'] + ['on '+str(i)+' of my '+str(max_cores)+' cores' for i in range(2,max_cores)] + ['always on all - 1 cores on any system'])\n",
    "    hbox_multiprocessing = widgets.HBox([widgets.Label(value='Multiprocessing?', layout=layout), dropdown_multiprocessing])\n",
    "    \n",
    "    vbox_fit_performance_settings = widgets.VBox([hbox_fast_fit, hbox_secondary_eclipse, hbox_multiprocessing])\n",
    "    display(vbox_fit_performance_settings)\n",
    "    \n",
    "    \n",
    "    \n",
    "    display(Markdown('### Advanced settings'))\n",
    "    display(Markdown('All advanced settings will be set to the default values. These can be changed manually in the settings.csv file later. This includes choices for limb darkening, baselines, errors & jitter.'))"
   ]
  },
  {
   "cell_type": "code",
   "execution_count": 13,
   "metadata": {},
   "outputs": [
    {
     "data": {
      "application/vnd.jupyter.widget-view+json": {
       "model_id": "09c60d96b4e349729d804f439a75b532",
       "version_major": 2,
       "version_minor": 0
      },
      "text/plain": [
       "SEJveChjaGlsZHJlbj0oQnV0dG9uKGRlc2NyaXB0aW9uPXUnQ3JlYXRlIHNldHRpbmdzLmNzdicsIHN0eWxlPUJ1dHRvblN0eWxlKCkpLCBDaGVja2JveCh2YWx1ZT1UcnVlLCBkZXNjcmlwdGnigKY=\n"
      ]
     },
     "metadata": {},
     "output_type": "display_data"
    },
    {
     "name": "stdout",
     "output_type": "stream",
     "text": [
      "Done.\n"
     ]
    },
    {
     "data": {
      "application/javascript": [
       "IPython.notebook.execute_cell_range(IPython.notebook.get_selected_index()+1, IPython.notebook.ncells())"
      ],
      "text/plain": [
       "<IPython.core.display.Javascript object>"
      ]
     },
     "metadata": {},
     "output_type": "display_data"
    }
   ],
   "source": [
    "if INPUT['show_step_2'] == False:\n",
    "    pass\n",
    "\n",
    "else:\n",
    "    button_create_settings_file = widgets.Button(description='Create settings.csv', button_style='')\n",
    "    checkbox_overwrite_settings_file = widgets.Checkbox(description='Overwrite old settings.csv (if existing)', value=False)\n",
    "    hbox_settings_file = widgets.HBox([button_create_settings_file, checkbox_overwrite_settings_file])\n",
    "    display(hbox_settings_file)\n",
    "    \n",
    "    \n",
    "\n",
    "    def create_settings_file(change):\n",
    "        clear_output()\n",
    "        display(hbox_settings_file)\n",
    "\n",
    "        go_ahead = True\n",
    "\n",
    "        if 'datadir' not in INPUT:\n",
    "            warnings.warn('No allesfitter woking directory selected yet. Please go back to step 1) and fill in all fields.')\n",
    "            go_ahead = False\n",
    "\n",
    "        if os.path.exists(os.path.join(INPUT['datadir'],'settings.csv')) and (checkbox_overwrite_settings_file.value==False):\n",
    "            warnings.warn('The selected working directory '+os.path.join(INPUT['datadir'],'settings.csv')+' already exists. To proceed, give permission to overwrite it.')\n",
    "            go_ahead = False\n",
    "\n",
    "        if go_ahead:\n",
    "            fname_settings = os.path.join(INPUT['datadir'], 'settings.csv')\n",
    "            with open(fname_settings, 'w+') as f:\n",
    "                f.write('#name,value\\n')\n",
    "\n",
    "            def fwrite_settings(text):\n",
    "                with open(fname_settings, 'a') as f:\n",
    "                    f.write(text+'\\n')\n",
    "                    \n",
    "                    \n",
    "            def unique(array):\n",
    "                uniq, index = np.unique(array, return_index=True)\n",
    "                return uniq[index.argsort()]\n",
    "\n",
    "            if len(text_inst_phot.value): inst_phot = str(text_inst_phot.value).split(' ')\n",
    "            else: inst_phot = []\n",
    "            if len(text_inst_rv.value): inst_rv = str(text_inst_rv.value).split(' ')\n",
    "            else: inst_rv = []\n",
    "\n",
    "            if len(text_planets_phot.value): planets_phot = str(text_planets_phot.value).split(' ')\n",
    "            else: planets_phot = []\n",
    "            if len(text_planets_rv.value): planets_rv = str(text_planets_rv.value).split(' ')\n",
    "            else: planets_rv = []\n",
    "\n",
    "            planets_all = list(np.unique(planets_phot+planets_rv)) #sorted by b, c, d...\n",
    "            inst_all = list(unique(inst_phot+inst_rv)) #sorted like user input\n",
    "    \n",
    "    \n",
    "\n",
    "            fwrite_settings('###############################################################################,')\n",
    "            fwrite_settings('# General settings,')\n",
    "            fwrite_settings('###############################################################################,')\n",
    "            fwrite_settings('planets_phot,'+text_planets_phot.value)\n",
    "            fwrite_settings('planets_rv,'+text_planets_rv.value)\n",
    "            fwrite_settings('inst_phot,'+text_inst_phot.value)\n",
    "            fwrite_settings('inst_rv,'+text_inst_rv.value)\n",
    "\n",
    "            fwrite_settings('###############################################################################,')\n",
    "            fwrite_settings('# Fit performance settings')\n",
    "            fwrite_settings('###############################################################################,')\n",
    "            if dropdown_fast_fit.value=='No':\n",
    "                fwrite_settings('fast_fit,False')\n",
    "            elif dropdown_fast_fit.value=='Yes, only keep transit':\n",
    "                fwrite_settings('fast_fit,True')\n",
    "                fwrite_settings('fast_fit_width,0.3333333333333333')\n",
    "            elif dropdown_fast_fit.value=='Yes, keep transit and occultation':\n",
    "                fwrite_settings('fast_fit,True')\n",
    "                fwrite_settings('fast_fit_width,0.3333333333333333')\n",
    "                dropdown_secondary_eclipse.value = 'Yes'\n",
    "\n",
    "            if dropdown_secondary_eclipse.value=='No':\n",
    "                fwrite_settings('secondary_eclipse,False')\n",
    "            elif dropdown_secondary_eclipse.value=='Yes':\n",
    "                fwrite_settings('secondary_eclipse,True')\n",
    "                \n",
    "            if dropdown_multiprocessing.value=='No':\n",
    "                fwrite_settings('multiprocess,False')\n",
    "            elif dropdown_multiprocessing.value=='always on all - 1 cores on any system':\n",
    "                fwrite_settings('multiprocess,True')\n",
    "                fwrite_settings('multiprocess_cores,all')\n",
    "            else:\n",
    "                fwrite_settings('multiprocess,True')\n",
    "                fwrite_settings('multiprocess_cores,'+dropdown_multiprocessing.value.split(' ')[1])\n",
    "\n",
    "            fwrite_settings('inst_for_b_epoch,all')\n",
    "\n",
    "            fwrite_settings('###############################################################################,')\n",
    "            fwrite_settings('# MCMC settings')\n",
    "            fwrite_settings('###############################################################################,')\n",
    "            fwrite_settings('mcmc_nwalkers,100')\n",
    "            fwrite_settings('mcmc_total_steps,2000')\n",
    "            fwrite_settings('mcmc_burn_steps,1000')\n",
    "            fwrite_settings('mcmc_thin_by,1')\n",
    "\n",
    "            fwrite_settings('###############################################################################,')\n",
    "            fwrite_settings('# Nested Sampling settings,')\n",
    "            fwrite_settings('###############################################################################,')\n",
    "            fwrite_settings('ns_modus,dynamic')\n",
    "            fwrite_settings('ns_nlive,500')\n",
    "            fwrite_settings('ns_bound,single')\n",
    "            fwrite_settings('ns_sample,rwalk')\n",
    "            fwrite_settings('ns_tol,0.01')\n",
    "\n",
    "            fwrite_settings('###############################################################################,')\n",
    "            fwrite_settings('# Exposure times for interpolation,')\n",
    "            fwrite_settings('# needs to be in the same units as the time series,')\n",
    "            fwrite_settings('# if not given the observing times will not be interpolated leading to biased results,')\n",
    "            fwrite_settings('###############################################################################,')\n",
    "            for inst in inst_all:\n",
    "                fwrite_settings('t_exp_'+inst+',')\n",
    "\n",
    "            fwrite_settings('###############################################################################,')\n",
    "            fwrite_settings('# Number of points for exposure interpolation,')\n",
    "            fwrite_settings('# Sample as fine as possible; generally at least with a 2 min sampling for photometry,')\n",
    "            fwrite_settings('# n_int=5 was found to be a good number of interpolation points for any short photometric cadence t_exp;,')\n",
    "            fwrite_settings('# increase to at least n_int=10 for 30 min phot. cadence,')\n",
    "            fwrite_settings('# the impact on RV is not as drastic and generally n_int=5 is fine enough,')\n",
    "            fwrite_settings('###############################################################################,')\n",
    "            for inst in inst_all:\n",
    "                fwrite_settings('t_exp_n_int_'+inst+',')\n",
    "\n",
    "            fwrite_settings('###############################################################################,')\n",
    "            fwrite_settings(\"# star - limb darkening law per instrument: lin / quad / sing,\")\n",
    "            fwrite_settings(\"# if 'lin' one corresponding parameter called 'ldc_q1_inst' has to be given in params.csv,\")\n",
    "            fwrite_settings(\"# if 'quad' two corresponding parameter called 'ldc_q1_inst' and 'ldc_q2_inst' have to be given in params.csv,\")\n",
    "            fwrite_settings(\"# if 'sing' three corresponding parameter called 'ldc_q1_inst'; 'ldc_q2_inst' and 'ldc_q3_inst' have to be given in params.csv,\")\n",
    "            fwrite_settings('###############################################################################,')\n",
    "            for inst in inst_phot:\n",
    "                fwrite_settings('ld_law_'+inst+',quad')\n",
    "\n",
    "            fwrite_settings('###############################################################################,')\n",
    "            fwrite_settings(\"# Baseline settings,\")\n",
    "            fwrite_settings(\"# baseline params per instrument: sample_offset / sample_linear / sample_GP / hybrid_offset / hybrid_poly_1 / hybrid_poly_2 / hybrid_poly_3 / hybrid_pol_4 / hybrid_spline / hybrid_GP,\")\n",
    "            fwrite_settings(\"# if 'sample_offset' one corresponding parameter called 'baseline_offset_key_inst' has to be given in params.csv,\")\n",
    "            fwrite_settings(\"# if 'sample_linear' two corresponding parameters called 'baseline_a_key_inst' and 'baseline_b_key_inst' have to be given in params.csv,\")\n",
    "            fwrite_settings('###############################################################################,')\n",
    "            for inst in inst_phot:\n",
    "                fwrite_settings('baseline_flux_'+inst+',sample_GP')\n",
    "            for inst in inst_rv:\n",
    "                fwrite_settings('baseline_rv_'+inst+',hybrid_offset')\n",
    "\n",
    "            fwrite_settings('###############################################################################,')\n",
    "            fwrite_settings(\"# Error settings,\")\n",
    "            fwrite_settings(\"# errors (overall scaling) per instrument: sample / hybrid,\")\n",
    "            fwrite_settings(\"# if 'sample' one corresponding parameter called 'log_err_key_inst' or 'log_jitter_key_inst' has to be given in params.csv,\")\n",
    "            fwrite_settings('###############################################################################,')\n",
    "            for inst in inst_phot:\n",
    "                fwrite_settings('error_flux_'+inst+',sample')\n",
    "            for inst in inst_rv:\n",
    "                fwrite_settings('error_rv_'+inst+',sample')\n",
    "\n",
    "\n",
    "            button_create_settings_file.style.button_color = 'lightgreen'  \n",
    "            print('Done.')      \n",
    "            INPUT['show_step_3'] = True\n",
    "            display(Javascript('IPython.notebook.execute_cell_range(IPython.notebook.get_selected_index()+1, IPython.notebook.ncells())'))\n",
    "\n",
    "\n",
    "    button_create_settings_file.on_click(create_settings_file)"
   ]
  },
  {
   "cell_type": "markdown",
   "metadata": {},
   "source": [
    "# 3) data files\n",
    "Please put all data files into the selected directory, and click the button to confirm."
   ]
  },
  {
   "cell_type": "code",
   "execution_count": 18,
   "metadata": {},
   "outputs": [
    {
     "data": {
      "application/vnd.jupyter.widget-view+json": {
       "model_id": "ea3862c5de4a4b059b8ddf770e436b00",
       "version_major": 2,
       "version_minor": 0
      },
      "text/plain": [
       "Button(description=u'Confirm', style=ButtonStyle())"
      ]
     },
     "metadata": {},
     "output_type": "display_data"
    },
    {
     "name": "stdout",
     "output_type": "stream",
     "text": [
      "Done.\n"
     ]
    },
    {
     "data": {
      "application/javascript": [
       "IPython.notebook.execute_cell_range(IPython.notebook.get_selected_index()+1, IPython.notebook.ncells())"
      ],
      "text/plain": [
       "<IPython.core.display.Javascript object>"
      ]
     },
     "metadata": {},
     "output_type": "display_data"
    }
   ],
   "source": [
    "if INPUT['show_step_3'] == False:\n",
    "    print('Complete steps 1) and 2) first.')\n",
    "\n",
    "else:  \n",
    "    button_confirm_data_files = widgets.Button(description='Confirm', button_style='')\n",
    "    display(button_confirm_data_files)\n",
    "    \n",
    "    \n",
    "    def unique(array):\n",
    "        uniq, index = np.unique(array, return_index=True)\n",
    "        return uniq[index.argsort()]\n",
    "\n",
    "    if len(text_inst_phot.value): inst_phot = str(text_inst_phot.value).split(' ')\n",
    "    else: inst_phot = []\n",
    "    if len(text_inst_rv.value): inst_rv = str(text_inst_rv.value).split(' ')\n",
    "    else: inst_rv = []\n",
    "\n",
    "    if len(text_planets_phot.value): planets_phot = str(text_planets_phot.value).split(' ')\n",
    "    else: planets_phot = []\n",
    "    if len(text_planets_rv.value): planets_rv = str(text_planets_rv.value).split(' ')\n",
    "    else: planets_rv = []\n",
    "\n",
    "    planets_all = list(np.unique(planets_phot+planets_rv)) #sorted by b, c, d...\n",
    "    inst_all = list(unique(inst_phot+inst_rv)) #sorted like user input\n",
    "            \n",
    "            \n",
    "    \n",
    "    def check_data_files(change):\n",
    "        clear_output()\n",
    "        display(button_confirm_data_files)\n",
    "        \n",
    "        all_data_exists = True\n",
    "        for inst in inst_all:\n",
    "            if not os.path.exists( os.path.join(INPUT['datadir'], inst+'.csv') ):\n",
    "                warnings.warn('Data file '+os.path.join(INPUT['datadir'], inst+'.csv')+' does not exist. Please include the data file into the directory and then repeat this step.')\n",
    "                all_data_exists = False\n",
    "        if all_data_exists:\n",
    "            button_confirm_data_files.style.button_color = 'lightgreen'  \n",
    "            print('Done.')      \n",
    "            INPUT['show_step_4'] = True\n",
    "            display(Javascript('IPython.notebook.execute_cell_range(IPython.notebook.get_selected_index()+1, IPython.notebook.ncells())'))\n",
    "    \n",
    "    button_confirm_data_files.on_click(check_data_files)"
   ]
  },
  {
   "cell_type": "markdown",
   "metadata": {},
   "source": [
    "# 4) initial guess and bounds (params.csv)"
   ]
  },
  {
   "cell_type": "code",
   "execution_count": 22,
   "metadata": {},
   "outputs": [
    {
     "data": {
      "text/markdown": [
       "### Initial guess and error bars"
      ],
      "text/plain": [
       "<IPython.core.display.Markdown object>"
      ]
     },
     "metadata": {},
     "output_type": "display_data"
    },
    {
     "data": {
      "text/markdown": [
       "These values will be converted into truncated normal priors with median $\\pm$ 5 * max(error) and physical boundaries."
      ],
      "text/plain": [
       "<IPython.core.display.Markdown object>"
      ]
     },
     "metadata": {},
     "output_type": "display_data"
    },
    {
     "data": {
      "text/markdown": [
       "#### Planet b"
      ],
      "text/plain": [
       "<IPython.core.display.Markdown object>"
      ]
     },
     "metadata": {},
     "output_type": "display_data"
    },
    {
     "data": {
      "application/vnd.jupyter.widget-view+json": {
       "model_id": "36f13362994b463f82ad3b7723f13ae6",
       "version_major": 2,
       "version_minor": 0
      },
      "text/plain": [
       "VkJveChjaGlsZHJlbj0oSEJveChjaGlsZHJlbj0oTGFiZWwodmFsdWU9dSdSYWRpaSAmIHNlbWktbWFqb3IgYXhpczonLCBsYXlvdXQ9TGF5b3V0KHdpZHRoPXUnMTgwcHgnKSksIFRleHQodmHigKY=\n"
      ]
     },
     "metadata": {},
     "output_type": "display_data"
    },
    {
     "data": {
      "text/markdown": [
       "### Estimate priors for errors and baselines"
      ],
      "text/plain": [
       "<IPython.core.display.Markdown object>"
      ]
     },
     "metadata": {},
     "output_type": "display_data"
    },
    {
     "data": {
      "text/markdown": [
       "This will take a couple of minutes. Make sure your initial guess above is very good. This will subtract the model from the data and evaluate the remaining noise patterns to estimate errors, jitter and GP baselines."
      ],
      "text/plain": [
       "<IPython.core.display.Markdown object>"
      ]
     },
     "metadata": {},
     "output_type": "display_data"
    },
    {
     "data": {
      "application/vnd.jupyter.widget-view+json": {
       "model_id": "c02ee4b5b6eb4c47870485880128e47c",
       "version_major": 2,
       "version_minor": 0
      },
      "text/plain": [
       "Checkbox(value=False, description=u'estimate errors and baselines?')"
      ]
     },
     "metadata": {},
     "output_type": "display_data"
    },
    {
     "data": {
      "text/markdown": [
       "### Advanced params"
      ],
      "text/plain": [
       "<IPython.core.display.Markdown object>"
      ]
     },
     "metadata": {},
     "output_type": "display_data"
    },
    {
     "data": {
      "text/markdown": [
       "All advanced params will be set to the default values. These can be changed manually in the params.csv file later. This includes: initial guesses and bounds for dilution, baselines, errors & jitter."
      ],
      "text/plain": [
       "<IPython.core.display.Markdown object>"
      ]
     },
     "metadata": {},
     "output_type": "display_data"
    }
   ],
   "source": [
    "if INPUT['show_step_4'] == False:\n",
    "    print('Complete steps 1) to 3) first.')\n",
    "\n",
    "else:\n",
    "    placeholder = widgets.Label(value='', visible=False, layout=layout)\n",
    "\n",
    "    \n",
    "        \n",
    "    \n",
    "    display(Markdown('### Initial guess and error bars'))\n",
    "    display(Markdown('These values will be converted into truncated normal priors with median $\\pm$ 5 * max(error) and physical boundaries.'))    \n",
    "    \n",
    "    for planet in planets_all:\n",
    "        \n",
    "        display(Markdown('#### Planet '+planet))\n",
    "        INPUT[planet] = {}\n",
    "        \n",
    "        INPUT[planet]['text_rasum_median'] = widgets.Text(value='0', placeholder='NaN', layout=layout_textbox)\n",
    "        INPUT[planet]['text_rasum_lerr']   = widgets.Text(value='0', placeholder='NaN', layout=layout_textbox)\n",
    "        INPUT[planet]['text_rasum_uerr']   = widgets.Text(value='0', placeholder='NaN', layout=layout_textbox)\n",
    "        INPUT[planet]['dropdown_rasum']    = widgets.Dropdown(options=['(R_planet + R_star) / a', 'R_star / a', 'a / R_star'], layout=layout)\n",
    "        INPUT[planet]['checkbox_rasum']    = widgets.Checkbox(value=True, description='fit?', layout=layout_checkbox)\n",
    "        hbox_rasum = widgets.HBox([widgets.Label(value='Radii & semi-major axis:', layout=layout), \n",
    "                                   INPUT[planet]['text_rasum_median'], \n",
    "                                   widgets.Label(value=\"-\"), INPUT[planet]['text_rasum_lerr'], \n",
    "                                   widgets.Label(value=\"+\"), INPUT[planet]['text_rasum_uerr'], \n",
    "                                   INPUT[planet]['dropdown_rasum'], \n",
    "                                   INPUT[planet]['checkbox_rasum']])\n",
    "\n",
    "        INPUT[planet]['text_rr_median'] = widgets.Text(value='0', placeholder='NaN', layout=layout_textbox)\n",
    "        INPUT[planet]['text_rr_lerr']   = widgets.Text(value='0', placeholder='NaN', layout=layout_textbox)\n",
    "        INPUT[planet]['text_rr_uerr']   = widgets.Text(value='0', placeholder='NaN', layout=layout_textbox)\n",
    "        INPUT[planet]['checkbox_rr']    = widgets.Checkbox(value=True, description='fit?', layout=layout_checkbox)\n",
    "        hbox_rr = widgets.HBox([widgets.Label(value='$R_'+planet+' / R_\\star$:', layout=layout), \n",
    "                                INPUT[planet]['text_rr_median'], \n",
    "                                widgets.Label(value=\"-\"), INPUT[planet]['text_rr_lerr'], \n",
    "                                widgets.Label(value=\"+\"), INPUT[planet]['text_rr_uerr'], \n",
    "                                placeholder, \n",
    "                                INPUT[planet]['checkbox_rr']])\n",
    "\n",
    "        INPUT[planet]['text_incl_median'] = widgets.Text(value='0', placeholder='NaN', layout=layout_textbox)\n",
    "        INPUT[planet]['text_incl_lerr']   = widgets.Text(value='0', placeholder='NaN', layout=layout_textbox)\n",
    "        INPUT[planet]['text_incl_uerr']   = widgets.Text(value='0', placeholder='NaN', layout=layout_textbox)\n",
    "        INPUT[planet]['dropdown_incl']    = widgets.Dropdown(options=['cos(i)', 'i (degree)', 'i (rad)'], layout=layout)\n",
    "        INPUT[planet]['checkbox_incl']    = widgets.Checkbox(value=True, description='fit?', layout=layout_checkbox)\n",
    "        hbox_incl = widgets.HBox([widgets.Label(value='Inclination:', layout=layout), \n",
    "                                  INPUT[planet]['text_incl_median'], \n",
    "                                  widgets.Label(value=\"-\"), INPUT[planet]['text_incl_lerr'], \n",
    "                                  widgets.Label(value=\"+\"), INPUT[planet]['text_incl_uerr'], \n",
    "                                  INPUT[planet]['dropdown_incl'], \n",
    "                                  INPUT[planet]['checkbox_incl']])\n",
    "\n",
    "        INPUT[planet]['text_epoch_median'] = widgets.Text(value='0', placeholder='NaN', layout=layout_textbox)\n",
    "        INPUT[planet]['text_epoch_lerr']   = widgets.Text(value='0', placeholder='NaN', layout=layout_textbox)    \n",
    "        INPUT[planet]['text_epoch_uerr']   = widgets.Text(value='0', placeholder='NaN', layout=layout_textbox)    \n",
    "        INPUT[planet]['checkbox_epoch']    = widgets.Checkbox(value=True, description='fit?', layout=layout_checkbox)\n",
    "        hbox_epoch = widgets.HBox([widgets.Label(value='Epoch (d):', layout=layout), \n",
    "                                   INPUT[planet]['text_epoch_median'], \n",
    "                                   widgets.Label(value=\"-\"), INPUT[planet]['text_epoch_lerr'], \n",
    "                                   widgets.Label(value=\"+\"), INPUT[planet]['text_epoch_uerr'], \n",
    "                                   placeholder, \n",
    "                                   INPUT[planet]['checkbox_epoch']])\n",
    "\n",
    "        INPUT[planet]['text_period_median'] = widgets.Text(value='0', placeholder='NaN', layout=layout_textbox)\n",
    "        INPUT[planet]['text_period_lerr']   = widgets.Text(value='0', placeholder='NaN', layout=layout_textbox)\n",
    "        INPUT[planet]['text_period_uerr']   = widgets.Text(value='0', placeholder='NaN', layout=layout_textbox)\n",
    "        INPUT[planet]['checkbox_period']    = widgets.Checkbox(value=True, description='fit?', layout=layout_checkbox)\n",
    "        hbox_period = widgets.HBox([widgets.Label(value='Period (d):', layout=layout), \n",
    "                                    INPUT[planet]['text_period_median'], \n",
    "                                    widgets.Label(value=\"-\"), INPUT[planet]['text_period_lerr'], \n",
    "                                    widgets.Label(value=\"+\"), INPUT[planet]['text_period_uerr'],  \n",
    "                                    placeholder, \n",
    "                                    INPUT[planet]['checkbox_period']])\n",
    "\n",
    "        if planet in planets_rv:\n",
    "            INPUT[planet]['text_K_median'] = widgets.Text(value='0', placeholder='NaN', layout=layout_textbox)\n",
    "            INPUT[planet]['text_K_lerr']   = widgets.Text(value='0', placeholder='NaN', layout=layout_textbox)\n",
    "            INPUT[planet]['text_K_uerr']   = widgets.Text(value='0', placeholder='NaN', layout=layout_textbox)\n",
    "            INPUT[planet]['checkbox_K']    = widgets.Checkbox(value=True, description='fit?', layout=layout_checkbox)\n",
    "            hbox_K = widgets.HBox([widgets.Label(value='K (km/s):', layout=layout), \n",
    "                                   INPUT[planet]['text_K_median'], \n",
    "                                   widgets.Label(value=\"-\"), INPUT[planet]['text_K_lerr'], \n",
    "                                   widgets.Label(value=\"+\"), INPUT[planet]['text_K_uerr'],  \n",
    "                                   placeholder, \n",
    "                                   INPUT[planet]['checkbox_K']])\n",
    "\n",
    "        INPUT[planet]['text_f_c_median'] = widgets.Text(value='0', placeholder='NaN', layout=layout_textbox)\n",
    "        INPUT[planet]['text_f_c_lerr']   = widgets.Text(value='0', placeholder='NaN', layout=layout_textbox)\n",
    "        INPUT[planet]['text_f_c_uerr']   = widgets.Text(value='0', placeholder='NaN', layout=layout_textbox)\n",
    "        INPUT[planet]['checkbox_f_c']    = widgets.Checkbox(value=True, description='fit?', layout=layout_checkbox)\n",
    "        hbox_f_c = widgets.HBox([widgets.Label(value='$\\sqrt{e} \\cos{\\omega}$:', layout=layout), \n",
    "                                 INPUT[planet]['text_f_c_median'], \n",
    "                                 widgets.Label(value=\"-\"), INPUT[planet]['text_f_c_lerr'], \n",
    "                                 widgets.Label(value=\"+\"), INPUT[planet]['text_f_c_uerr'],  \n",
    "                                 placeholder, \n",
    "                                 INPUT[planet]['checkbox_f_c']])\n",
    "\n",
    "        INPUT[planet]['text_f_s_median'] = widgets.Text(value='0', placeholder='NaN', layout=layout_textbox)\n",
    "        INPUT[planet]['text_f_s_lerr']   = widgets.Text(value='0', placeholder='NaN', layout=layout_textbox)\n",
    "        INPUT[planet]['text_f_s_uerr']   = widgets.Text(value='0', placeholder='NaN', layout=layout_textbox)\n",
    "        INPUT[planet]['checkbox_f_s']    = widgets.Checkbox(value=True, description='fit?', layout=layout_checkbox)\n",
    "        hbox_f_s = widgets.HBox([widgets.Label(value='$\\sqrt{e} \\sin{\\omega}$:', layout=layout), \n",
    "                                 INPUT[planet]['text_f_s_median'], \n",
    "                                 widgets.Label(value=\"-\"), INPUT[planet]['text_f_s_lerr'], \n",
    "                                 widgets.Label(value=\"+\"), INPUT[planet]['text_f_s_uerr'],  \n",
    "                                 placeholder, \n",
    "                                 INPUT[planet]['checkbox_f_s']])\n",
    "\n",
    "        try:\n",
    "            vbox = widgets.VBox([hbox_rasum, hbox_rr, hbox_incl, hbox_epoch, hbox_period, hbox_K, hbox_f_c, hbox_f_s])\n",
    "        except:\n",
    "            vbox = widgets.VBox([hbox_rasum, hbox_rr, hbox_incl, hbox_epoch, hbox_period, hbox_f_c, hbox_f_s])\n",
    "\n",
    "        display(vbox)\n",
    "    \n",
    "    \n",
    "    \n",
    "    '''\n",
    "    inst_phot = text_inst_phot.value.split(' ')\n",
    "    inst_rv = text_inst_rv.value.split(' ')\n",
    "    inst_all = inst_phot + inst_rv \n",
    "\n",
    "    togglebutton_dilution = widgets.ToggleButton(value=False,description='set dilution?')\n",
    "    display(togglebutton_dilution)\n",
    "\n",
    "    def create_vbox_dilution():\n",
    "        text_dilution_median = {}\n",
    "        text_dilution_err = {}\n",
    "        hbox_dilution = {}\n",
    "        if len(inst_phot)>0:\n",
    "            for inst in inst_phot:\n",
    "                text_dilution_median[inst] = widgets.Text(value='NaN')\n",
    "                text_dilution_err[inst]    = widgets.Text(value='NaN')\n",
    "                hbox_dilution[inst]        = widgets.HBox([widgets.Label(value='Dilution '+inst, layout=layout), text_dilution_median[inst], widgets.Label(value=\"$\\pm$\"), text_dilution_err[inst]])\n",
    "            vbox_dilution = widgets.VBox([hbox_dilution[inst] for inst in inst_phot])\n",
    "        else:\n",
    "            vox_dilution = widgets.Vbox([])\n",
    "        return vbox_dilution\n",
    "    vbox_dilution = create_vbox_dilution()\n",
    "\n",
    "    def showhide_vbox_dilution(change):\n",
    "        if change.new==True:\n",
    "            display(vbox_dilution)\n",
    "        else:\n",
    "            clear_output()\n",
    "            display(togglebutton_dilution)\n",
    "\n",
    "    togglebutton_dilution.observe(showhide_vbox_dilution, names='value')\n",
    "    '''\n",
    "    \n",
    "    display(Markdown('### Estimate priors for errors and baselines'))\n",
    "    display(Markdown('This will take a couple of minutes. Make sure your initial guess above is very good. This will subtract the model from the data and evaluate the remaining noise patterns to estimate errors, jitter and GP baselines.'))\n",
    "\n",
    "    \n",
    "    checkbox_estimate_errors_and_baselines = widgets.Checkbox(value=False, description='estimate errors and baselines?')\n",
    "    display(checkbox_estimate_errors_and_baselines)\n",
    "\n",
    "    display(Markdown('### Advanced params'))\n",
    "    display(Markdown('All advanced params will be set to the default values. These can be changed manually in the params.csv file later. This includes: initial guesses and bounds for dilution, baselines, errors & jitter.'))"
   ]
  },
  {
   "cell_type": "code",
   "execution_count": 23,
   "metadata": {
    "scrolled": false
   },
   "outputs": [
    {
     "data": {
      "application/vnd.jupyter.widget-view+json": {
       "model_id": "ac2a7a5ffbeb49d5b6222a5604521aba",
       "version_major": 2,
       "version_minor": 0
      },
      "text/plain": [
       "SEJveChjaGlsZHJlbj0oQnV0dG9uKGRlc2NyaXB0aW9uPXUnQ3JlYXRlIHBhcmFtcy5jc3YnLCBzdHlsZT1CdXR0b25TdHlsZSgpKSwgQ2hlY2tib3godmFsdWU9VHJ1ZSwgZGVzY3JpcHRpb27igKY=\n"
      ]
     },
     "metadata": {},
     "output_type": "display_data"
    },
    {
     "name": "stdout",
     "output_type": "stream",
     "text": [
      "Calculating... this might take a few seconds. Please be patient, you will get notified once everything is completed.\n",
      "\n",
      "Estimating errors and baselines... this will take a couple of minutes. Please be patient, you will get notified once everything is completed.\n",
      "\n",
      "\n",
      "###############################################################################\n",
      "TESS flux\n",
      "###############################################################################\n",
      "\n",
      "Starting...\n",
      "\n",
      "Running MCMC fit...\n",
      "\tRunning on 4 CPUs.\n"
     ]
    },
    {
     "name": "stderr",
     "output_type": "stream",
     "text": [
      "100%|██████████| 5000/5000 [01:33<00:00, 53.25it/s]\n",
      "Using a non-tuple sequence for multidimensional indexing is deprecated; use `arr[tuple(seq)]` instead of `arr[seq]`. In the future this will be interpreted as an array index, `arr[np.array(seq)]`, which will result either in an error or a different result.\n",
      "  0%|          | 0/2 [00:00<?, ?it/s]"
     ]
    },
    {
     "name": "stdout",
     "output_type": "stream",
     "text": [
      "\n",
      "Acceptance fractions:\n",
      "[0.66 0.64 0.65 0.59 0.55 0.59 0.55 0.63 0.63 0.56 0.55 0.58 0.55 0.57\n",
      " 0.49 0.66 0.64 0.68 0.68 0.53 0.6  0.64 0.65 0.67 0.65 0.69 0.61 0.64\n",
      " 0.64 0.57 0.63 0.61 0.62 0.67 0.54 0.57 0.56 0.61 0.59 0.57 0.62 0.66\n",
      " 0.67 0.72 0.52 0.51 0.56 0.56 0.61 0.59]\n",
      "\n",
      "Autocorrelation times:\n",
      "\t parameter                      tau (in steps)       Chain length (in multiples of tau)\n",
      "\t gp: $\\log{\\sigma}$             62.1904626888        40.1990898912       \n",
      "\t gp: $\\log{\\rho}$               63.2311485961        39.5374756826       \n",
      "\t $\\log{(y_\\mathrm{err})}$       46.4203041513        53.8557436387       \n"
     ]
    },
    {
     "name": "stderr",
     "output_type": "stream",
     "text": [
      "100%|██████████| 2/2 [00:02<00:00,  1.21s/it]\n"
     ]
    },
    {
     "name": "stdout",
     "output_type": "stream",
     "text": [
      "\n",
      "Retrieve samples for detrending...\n"
     ]
    },
    {
     "name": "stderr",
     "output_type": "stream",
     "text": [
      "100%|██████████| 8/8 [00:17<00:00,  1.93s/it]\n"
     ]
    },
    {
     "name": "stdout",
     "output_type": "stream",
     "text": [
      "\n",
      "Creating output...\n",
      "\n",
      "Done. All output files are in /Users/mx/Dropbox (MIT)/knownplanets/hats-3/allesfit_template/priors/TESS\n",
      "\n",
      "###############################################################################\n",
      "HATS flux\n",
      "###############################################################################\n",
      "\n",
      "Starting...\n",
      "\n",
      "Running MCMC fit...\n",
      "\tRunning on 4 CPUs.\n"
     ]
    },
    {
     "name": "stderr",
     "output_type": "stream",
     "text": [
      "100%|██████████| 5000/5000 [01:33<00:00, 53.51it/s]\n",
      "  0%|          | 0/2 [00:00<?, ?it/s]"
     ]
    },
    {
     "name": "stdout",
     "output_type": "stream",
     "text": [
      "\n",
      "Acceptance fractions:\n",
      "[0.57 0.66 0.6  0.61 0.65 0.65 0.58 0.63 0.6  0.56 0.66 0.59 0.61 0.71\n",
      " 0.68 0.62 0.56 0.63 0.68 0.62 0.55 0.63 0.6  0.6  0.02 0.61 0.6  0.71\n",
      " 0.69 0.66 0.64 0.66 0.63 0.58 0.67 0.72 0.6  0.54 0.75 0.59 0.63 0.67\n",
      " 0.59 0.53 0.48 0.59 0.65 0.6  0.62 0.66]\n",
      "\n",
      "Autocorrelation times:\n",
      "\t parameter                      tau (in steps)       Chain length (in multiples of tau)\n",
      "\t gp: $\\log{\\sigma}$             50.6494240469        49.3589028314       \n",
      "\t gp: $\\log{\\rho}$               53.195890557         46.9961114256       \n",
      "\t $\\log{(y_\\mathrm{err})}$       56.166669176         44.5103837681       \n"
     ]
    },
    {
     "name": "stderr",
     "output_type": "stream",
     "text": [
      "100%|██████████| 2/2 [00:02<00:00,  1.29s/it]\n",
      "WARNING:root:Too few points to create valid contours\n",
      "WARNING:root:Too few points to create valid contours\n"
     ]
    },
    {
     "name": "stdout",
     "output_type": "stream",
     "text": [
      "\n",
      "Retrieve samples for detrending...\n"
     ]
    },
    {
     "name": "stderr",
     "output_type": "stream",
     "text": [
      "100%|██████████| 8/8 [00:17<00:00,  1.90s/it]\n"
     ]
    },
    {
     "name": "stdout",
     "output_type": "stream",
     "text": [
      "\n",
      "Creating output...\n",
      "\n",
      "Done. All output files are in /Users/mx/Dropbox (MIT)/knownplanets/hats-3/allesfit_template/priors/HATS\n",
      "\n",
      "###############################################################################\n",
      "FTS_i flux\n",
      "###############################################################################\n",
      "\n",
      "Starting...\n",
      "\n",
      "Running MCMC fit...\n",
      "\tRunning on 4 CPUs.\n"
     ]
    },
    {
     "name": "stderr",
     "output_type": "stream",
     "text": [
      "100%|██████████| 5000/5000 [00:22<00:00, 217.51it/s]\n",
      "100%|██████████| 2/2 [00:00<00:00, 31.13it/s]\n"
     ]
    },
    {
     "name": "stdout",
     "output_type": "stream",
     "text": [
      "\n",
      "Acceptance fractions:\n",
      "[0.64 0.58 0.68 0.74 0.69 0.68 0.61 0.65 0.7  0.62 0.7  0.57 0.56 0.64\n",
      " 0.61 0.69 0.58 0.7  0.63 0.51 0.66 0.62 0.68 0.64 0.61 0.55 0.61 0.7\n",
      " 0.67 0.74 0.66 0.65 0.6  0.69 0.7  0.62 0.61 0.66 0.7  0.69 0.57 0.61\n",
      " 0.62 0.68 0.64 0.61 0.72 0.69 0.66 0.64]\n",
      "\n",
      "Autocorrelation times:\n",
      "\t parameter                      tau (in steps)       Chain length (in multiples of tau)\n",
      "\t gp: $\\log{\\sigma}$             43.3258706139        57.7022449769       \n",
      "\t gp: $\\log{\\rho}$               47.9705749112        52.1152811828       \n",
      "\t $\\log{(y_\\mathrm{err})}$       46.4169867791        53.8595926508       \n",
      "\n",
      "Retrieve samples for detrending...\n"
     ]
    },
    {
     "name": "stderr",
     "output_type": "stream",
     "text": [
      "100%|██████████| 1/1 [00:00<00:00, 54.48it/s]"
     ]
    },
    {
     "name": "stdout",
     "output_type": "stream",
     "text": [
      "\n",
      "Creating output...\n",
      "\n",
      "Done. All output files are in /Users/mx/Dropbox (MIT)/knownplanets/hats-3/allesfit_template/priors/FTS_i\n",
      "\n",
      "###############################################################################\n",
      "GROND_g flux\n",
      "###############################################################################\n",
      "\n",
      "Starting...\n"
     ]
    },
    {
     "name": "stderr",
     "output_type": "stream",
     "text": [
      "\n"
     ]
    },
    {
     "name": "stdout",
     "output_type": "stream",
     "text": [
      "\n",
      "Running MCMC fit...\n",
      "\tRunning on 4 CPUs.\n"
     ]
    },
    {
     "name": "stderr",
     "output_type": "stream",
     "text": [
      "100%|██████████| 5000/5000 [00:22<00:00, 223.42it/s]\n",
      "100%|██████████| 2/2 [00:00<00:00, 51.12it/s]\n"
     ]
    },
    {
     "name": "stdout",
     "output_type": "stream",
     "text": [
      "\n",
      "Acceptance fractions:\n",
      "[0.51 0.43 0.35 0.56 0.61 0.57 0.58 0.43 0.55 0.53 0.56 0.35 0.41 0.04\n",
      " 0.51 0.65 0.48 0.47 0.51 0.06 0.58 0.45 0.49 0.5  0.55 0.59 0.49 0.52\n",
      " 0.11 0.56 0.45 0.44 0.54 0.59 0.52 0.56 0.46 0.42 0.47 0.5  0.52 0.55\n",
      " 0.5  0.02 0.53 0.52 0.54 0.59 0.42 0.06]\n",
      "\n",
      "Autocorrelation times:\n",
      "\t parameter                      tau (in steps)       Chain length (in multiples of tau)\n",
      "\t gp: $\\log{\\sigma}$             67.336367008         37.1270401283       \n",
      "\t gp: $\\log{\\rho}$               77.3456223592        32.3224498523       \n",
      "\t $\\log{(y_\\mathrm{err})}$       73.6702111923        33.9350187754       \n"
     ]
    },
    {
     "name": "stderr",
     "output_type": "stream",
     "text": [
      "WARNING:root:Too few points to create valid contours\n"
     ]
    },
    {
     "name": "stdout",
     "output_type": "stream",
     "text": [
      "\n",
      "Retrieve samples for detrending...\n"
     ]
    },
    {
     "name": "stderr",
     "output_type": "stream",
     "text": [
      "100%|██████████| 1/1 [00:00<00:00, 411.21it/s]"
     ]
    },
    {
     "name": "stdout",
     "output_type": "stream",
     "text": [
      "\n",
      "Creating output...\n",
      "\n",
      "Done. All output files are in /Users/mx/Dropbox (MIT)/knownplanets/hats-3/allesfit_template/priors/GROND_g\n",
      "\n",
      "###############################################################################\n",
      "GROND_r flux\n",
      "###############################################################################\n",
      "\n",
      "Starting...\n",
      "\n",
      "Running MCMC fit...\n",
      "\tRunning on 4 CPUs.\n"
     ]
    },
    {
     "name": "stderr",
     "output_type": "stream",
     "text": [
      "\n",
      "100%|██████████| 5000/5000 [00:22<00:00, 222.32it/s]\n",
      "100%|██████████| 2/2 [00:00<00:00, 50.60it/s]\n"
     ]
    },
    {
     "name": "stdout",
     "output_type": "stream",
     "text": [
      "\n",
      "Acceptance fractions:\n",
      "[0.49 0.59 0.63 0.61 0.49 0.48 0.41 0.56 0.6  0.53 0.58 0.57 0.58 0.\n",
      " 0.55 0.57 0.51 0.43 0.58 0.59 0.55 0.59 0.52 0.57 0.57 0.65 0.5  0.47\n",
      " 0.6  0.61 0.59 0.46 0.57 0.54 0.52 0.59 0.59 0.61 0.62 0.56 0.44 0.59\n",
      " 0.61 0.55 0.54 0.44 0.03 0.52 0.61 0.47]\n",
      "\n",
      "Autocorrelation times:\n",
      "\t parameter                      tau (in steps)       Chain length (in multiples of tau)\n",
      "\t gp: $\\log{\\sigma}$             56.6347666489        44.1424967017       \n",
      "\t gp: $\\log{\\rho}$               69.9558786369        35.7368108115       \n",
      "\t $\\log{(y_\\mathrm{err})}$       59.804983412         41.8025364672       \n"
     ]
    },
    {
     "name": "stderr",
     "output_type": "stream",
     "text": [
      "WARNING:root:Too few points to create valid contours\n",
      "WARNING:root:Too few points to create valid contours\n",
      "WARNING:root:Too few points to create valid contours\n"
     ]
    },
    {
     "name": "stdout",
     "output_type": "stream",
     "text": [
      "\n",
      "Retrieve samples for detrending...\n"
     ]
    },
    {
     "name": "stderr",
     "output_type": "stream",
     "text": [
      "100%|██████████| 1/1 [00:00<00:00, 141.65it/s]"
     ]
    },
    {
     "name": "stdout",
     "output_type": "stream",
     "text": [
      "\n",
      "Creating output...\n",
      "\n",
      "Done. All output files are in /Users/mx/Dropbox (MIT)/knownplanets/hats-3/allesfit_template/priors/GROND_r\n",
      "\n",
      "###############################################################################\n",
      "GROND_i flux\n",
      "###############################################################################\n",
      "\n",
      "Starting...\n",
      "\n",
      "Running MCMC fit...\n",
      "\tRunning on 4 CPUs.\n"
     ]
    },
    {
     "name": "stderr",
     "output_type": "stream",
     "text": [
      "\n",
      "100%|██████████| 5000/5000 [00:22<00:00, 222.89it/s]\n",
      "100%|██████████| 2/2 [00:00<00:00, 27.78it/s]\n"
     ]
    },
    {
     "name": "stdout",
     "output_type": "stream",
     "text": [
      "\n",
      "Acceptance fractions:\n",
      "[0.52 0.63 0.47 0.56 0.62 0.69 0.58 0.67 0.51 0.61 0.58 0.51 0.59 0.64\n",
      " 0.65 0.52 0.48 0.56 0.61 0.6  0.67 0.6  0.66 0.66 0.58 0.61 0.65 0.55\n",
      " 0.6  0.66 0.02 0.63 0.53 0.49 0.53 0.61 0.6  0.57 0.66 0.58 0.55 0.55\n",
      " 0.55 0.04 0.47 0.57 0.61 0.59 0.51 0.57]\n",
      "\n",
      "Autocorrelation times:\n",
      "\t parameter                      tau (in steps)       Chain length (in multiples of tau)\n",
      "\t gp: $\\log{\\sigma}$             59.0228952532        42.3564447199       \n",
      "\t gp: $\\log{\\rho}$               72.7697059652        34.3549553601       \n",
      "\t $\\log{(y_\\mathrm{err})}$       58.376027851         42.8257983976       \n"
     ]
    },
    {
     "name": "stderr",
     "output_type": "stream",
     "text": [
      "WARNING:root:Too few points to create valid contours\n",
      "WARNING:root:Too few points to create valid contours\n",
      "WARNING:root:Too few points to create valid contours\n"
     ]
    },
    {
     "name": "stdout",
     "output_type": "stream",
     "text": [
      "\n",
      "Retrieve samples for detrending...\n"
     ]
    },
    {
     "name": "stderr",
     "output_type": "stream",
     "text": [
      "100%|██████████| 1/1 [00:00<00:00, 126.92it/s]"
     ]
    },
    {
     "name": "stdout",
     "output_type": "stream",
     "text": [
      "\n",
      "Creating output...\n",
      "\n",
      "Done. All output files are in /Users/mx/Dropbox (MIT)/knownplanets/hats-3/allesfit_template/priors/GROND_i\n",
      "\n",
      "###############################################################################\n",
      "GROND_z flux\n",
      "###############################################################################\n",
      "\n",
      "Starting...\n",
      "\n",
      "Running MCMC fit...\n",
      "\tRunning on 4 CPUs.\n"
     ]
    },
    {
     "name": "stderr",
     "output_type": "stream",
     "text": [
      "\n",
      "100%|██████████| 5000/5000 [00:22<00:00, 223.46it/s]\n",
      "100%|██████████| 2/2 [00:00<00:00, 49.65it/s]\n"
     ]
    },
    {
     "name": "stdout",
     "output_type": "stream",
     "text": [
      "\n",
      "Acceptance fractions:\n",
      "[0.6  0.56 0.61 0.52 0.59 0.57 0.61 0.69 0.63 0.56 0.55 0.64 0.58 0.63\n",
      " 0.6  0.58 0.62 0.65 0.56 0.61 0.65 0.63 0.61 0.63 0.64 0.58 0.65 0.6\n",
      " 0.57 0.56 0.62 0.59 0.01 0.69 0.02 0.56 0.67 0.63 0.52 0.58 0.64 0.55\n",
      " 0.63 0.58 0.52 0.56 0.67 0.66 0.64 0.61]\n",
      "\n",
      "Autocorrelation times:\n",
      "\t parameter                      tau (in steps)       Chain length (in multiples of tau)\n",
      "\t gp: $\\log{\\sigma}$             62.2169015612        40.1820074171       \n",
      "\t gp: $\\log{\\rho}$               53.0485583967        47.1266340794       \n",
      "\t $\\log{(y_\\mathrm{err})}$       45.9215167932        54.4407104682       \n"
     ]
    },
    {
     "name": "stderr",
     "output_type": "stream",
     "text": [
      "WARNING:root:Too few points to create valid contours\n",
      "WARNING:root:Too few points to create valid contours\n"
     ]
    },
    {
     "name": "stdout",
     "output_type": "stream",
     "text": [
      "\n",
      "Retrieve samples for detrending...\n"
     ]
    },
    {
     "name": "stderr",
     "output_type": "stream",
     "text": [
      "100%|██████████| 1/1 [00:00<00:00, 133.46it/s]"
     ]
    },
    {
     "name": "stdout",
     "output_type": "stream",
     "text": [
      "\n",
      "Creating output...\n",
      "\n",
      "Done. All output files are in /Users/mx/Dropbox (MIT)/knownplanets/hats-3/allesfit_template/priors/GROND_z\n",
      "\n",
      "###############################################################################\n",
      "AAT rv\n",
      "###############################################################################\n",
      "\n",
      "Starting...\n",
      "\n",
      "Running MCMC fit...\n",
      "\tRunning on 4 CPUs.\n"
     ]
    },
    {
     "name": "stderr",
     "output_type": "stream",
     "text": [
      "\n",
      "100%|██████████| 5000/5000 [00:09<00:00, 527.72it/s]\n"
     ]
    },
    {
     "name": "stdout",
     "output_type": "stream",
     "text": [
      "\n",
      "Acceptance fractions:\n",
      "[0.77 0.77 0.82 0.85 0.83 0.87 0.83 0.77 0.82 0.82 0.81 0.79 0.75 0.82\n",
      " 0.8  0.78 0.76 0.82 0.78 0.83 0.83 0.8  0.87 0.78 0.73 0.83 0.82 0.83\n",
      " 0.83 0.76 0.89 0.83 0.78 0.82 0.69 0.69 0.8  0.77 0.86 0.77 0.8  0.79\n",
      " 0.78 0.72 0.86 0.84 0.79 0.68 0.86 0.85]\n",
      "\n",
      "Autocorrelation times:\n",
      "\t parameter                      tau (in steps)       Chain length (in multiples of tau)\n",
      "\t $\\log{(y_\\mathrm{err})}$       47.4321899111        52.7068221958       \n",
      "\n",
      "Done. All output files are in /Users/mx/Dropbox (MIT)/knownplanets/hats-3/allesfit_template/priors/AAT\n",
      "\n",
      "###############################################################################\n",
      "Coralie rv\n",
      "###############################################################################\n",
      "\n",
      "Starting...\n",
      "\n",
      "Running MCMC fit...\n",
      "\tRunning on 4 CPUs.\n"
     ]
    },
    {
     "name": "stderr",
     "output_type": "stream",
     "text": [
      "100%|██████████| 5000/5000 [00:09<00:00, 527.50it/s]\n"
     ]
    },
    {
     "name": "stdout",
     "output_type": "stream",
     "text": [
      "\n",
      "Acceptance fractions:\n",
      "[0.8  0.87 0.84 0.78 0.83 0.84 0.76 0.79 0.79 0.8  0.85 0.81 0.78 0.82\n",
      " 0.79 0.81 0.76 0.79 0.78 0.84 0.78 0.78 0.82 0.84 0.78 0.84 0.82 0.79\n",
      " 0.85 0.77 0.85 0.81 0.87 0.79 0.74 0.8  0.79 0.78 0.84 0.84 0.8  0.79\n",
      " 0.71 0.78 0.83 0.78 0.85 0.8  0.81 0.85]\n",
      "\n",
      "Autocorrelation times:\n",
      "\t parameter                      tau (in steps)       Chain length (in multiples of tau)\n",
      "\t $\\log{(y_\\mathrm{err})}$       38.9379873897        64.2046537993       \n",
      "\n",
      "Done. All output files are in /Users/mx/Dropbox (MIT)/knownplanets/hats-3/allesfit_template/priors/Coralie\n",
      "\n",
      "###############################################################################\n",
      "FEROS rv\n",
      "###############################################################################\n",
      "\n",
      "Starting...\n",
      "\n",
      "Running MCMC fit...\n",
      "\tRunning on 4 CPUs.\n"
     ]
    },
    {
     "name": "stderr",
     "output_type": "stream",
     "text": [
      "100%|██████████| 5000/5000 [00:09<00:00, 528.17it/s]\n"
     ]
    },
    {
     "name": "stdout",
     "output_type": "stream",
     "text": [
      "\n",
      "Acceptance fractions:\n",
      "[0.85 0.8  0.8  0.82 0.79 0.82 0.86 0.81 0.87 0.85 0.88 0.82 0.77 0.83\n",
      " 0.75 0.83 0.77 0.82 0.83 0.85 0.82 0.81 0.84 0.88 0.78 0.82 0.86 0.79\n",
      " 0.87 0.82 0.79 0.84 0.85 0.84 0.75 0.77 0.84 0.87 0.8  0.76 0.85 0.8\n",
      " 0.76 0.78 0.76 0.8  0.78 0.77 0.83 0.84]\n",
      "\n",
      "Autocorrelation times:\n",
      "\t parameter                      tau (in steps)       Chain length (in multiples of tau)\n",
      "\t $\\log{(y_\\mathrm{err})}$       41.6243212463        60.0610394392       \n",
      "\n",
      "Done. All output files are in /Users/mx/Dropbox (MIT)/knownplanets/hats-3/allesfit_template/priors/FEROS\n",
      "\n",
      "Done.\n"
     ]
    },
    {
     "data": {
      "application/javascript": [
       "IPython.notebook.execute_cell_range(IPython.notebook.get_selected_index()+1, IPython.notebook.ncells())"
      ],
      "text/plain": [
       "<IPython.core.display.Javascript object>"
      ]
     },
     "metadata": {},
     "output_type": "display_data"
    }
   ],
   "source": [
    "if INPUT['show_step_4'] == False:\n",
    "    pass\n",
    "\n",
    "else:\n",
    "    nan_fields = False\n",
    "    \n",
    "    button_create_params_file = widgets.Button(description='Create params.csv', button_style='')\n",
    "    checkbox_overwrite_params_file = widgets.Checkbox(description='Overwrite old params.csv (if existing)', value=False)\n",
    "    hbox_params_file = widgets.HBox([button_create_params_file, checkbox_overwrite_params_file])\n",
    "    display(hbox_params_file)\n",
    "    \n",
    "    def create_params_file(change):\n",
    "        clear_output()\n",
    "        display(hbox_params_file)\n",
    "        print('Calculating... this might take a few seconds. Please be patient, you will get notified once everything is completed.')\n",
    "\n",
    "        go_ahead = True\n",
    "\n",
    "        if 'datadir' not in INPUT:\n",
    "            warnings.warn('No allesfitter woking directory selected yet. Please go back to step 1) and fill in all fields.')\n",
    "            go_ahead = False\n",
    "\n",
    "        if os.path.exists(os.path.join(INPUT['datadir'],'params.csv')) and (checkbox_overwrite_params_file.value==False):\n",
    "            warnings.warn('The selected working directory '+os.path.join(INPUT['datadir'],'params.csv')+' already exists. To proceed, give permission to overwrite it.')\n",
    "            go_ahead = False\n",
    "\n",
    "        if go_ahead:\n",
    "            fname_params = os.path.join(INPUT['datadir'], 'params.csv')\n",
    "            with open(fname_params, 'w+') as f:\n",
    "                f.write('#name,value,fit,bounds,label,unit\\n')\n",
    "\n",
    "            def fwrite_params(text):\n",
    "                with open(fname_params, 'a') as f:\n",
    "                    f.write(text+'\\n')\n",
    "            \n",
    "            def get_median_and_error_strings(text_median, text_lerr, text_uerr):\n",
    "                if (text_median.value == ''):\n",
    "                    median = 'NaN'\n",
    "                    nan_fields = True\n",
    "                else:\n",
    "                    median = text_median.value\n",
    "                if (text_lerr.value == '') or (text_uerr.value == ''):\n",
    "                    err = 'NaN'\n",
    "                    nan_fields = True\n",
    "                else:\n",
    "                    err = str( 5.* np.max( [float(text_lerr.value), float(text_uerr.value)] ) )\n",
    "                median, err, _ = round_txt_separately( float(median), float(err), float(err) )\n",
    "                return median, err\n",
    "                    \n",
    "                \n",
    "            #::: dilution per instrument\n",
    "            if len(inst_phot):\n",
    "                fwrite_params('#dilution per instrument,,,,,')\n",
    "                for inst in inst_phot:\n",
    "                    fwrite_params('light_3_'+inst+',0,0,trunc_normal 0 1 0 0,$D_\\mathrm{'+inst+'}$,')\n",
    "\n",
    "                \n",
    "            #::: limb darkening coefficients per instrument\n",
    "            if len(inst_phot):\n",
    "                fwrite_params('#limb darkening coefficients per instrument,,,,,')     \n",
    "                for inst in inst_phot:\n",
    "                    fwrite_params('ldc_q1_'+inst+',0.5,1,uniform 0 1,$q_{1; \\mathrm{'+inst+'}}$,')     \n",
    "                    fwrite_params('ldc_q2_'+inst+',0.5,1,uniform 0 1,$q_{2; \\mathrm{'+inst+'}}$,')           \n",
    "              \n",
    "            \n",
    "            #::: brightness ratio and albedo per instrument per planet\n",
    "            if len(inst_phot):\n",
    "                for planet in planets_phot:\n",
    "                    fwrite_params('#brightness ratio and albedo per instrument per planet,,,,,')\n",
    "                    for inst in inst_phot:\n",
    "                        fwrite_params(planet+'_sbratio_'+inst+',0,0,trunc_normal 0 1 0 0,$J_{'+planet+'; \\mathrm{'+inst+'}}$,')\n",
    "                        fwrite_params(planet+'_geom_albedo_'+inst+',0,0,uniform 0 1,$A_{\\mathrm{geom; }'+planet+'; \\mathrm{'+inst+'}}$,')\n",
    "\n",
    "                    \n",
    "            #:::: astrophysical parameters per planet\n",
    "            for planet in planets_all:\n",
    "                fwrite_params('#planet '+planet+' astrophysical params,,,,,') \n",
    "                \n",
    "                \n",
    "                    \n",
    "                #::: rr\n",
    "                if planet in planets_phot:\n",
    "                    rr_median, rr_err = get_median_and_error_strings(INPUT[planet]['text_rr_median'], INPUT[planet]['text_rr_lerr'], INPUT[planet]['text_rr_uerr'])\n",
    "                    fwrite_params(planet+'_rr,'+rr_median+','+str(int(INPUT[planet]['checkbox_rr'].value))+',trunc_normal 0 1 '+rr_median+' '+rr_err+',$R_'+planet+' / R_\\star$,')\n",
    "\n",
    "                \n",
    "                \n",
    "                #::: rasum\n",
    "                if planet in planets_phot:\n",
    "                    if INPUT[planet]['dropdown_rasum'].value=='(R_planet + R_star) / a':\n",
    "                        rasum_median, rasum_err = get_median_and_error_strings(INPUT[planet]['text_rasum_median'], INPUT[planet]['text_rasum_lerr'], INPUT[planet]['text_rasum_uerr'])\n",
    "\n",
    "                    elif INPUT[planet]['dropdown_rasum'].value=='R_star / a':\n",
    "                        Rstar_over_a = [ float(INPUT[planet]['text_rasum_median'].value), float(INPUT[planet]['text_rasum_lerr'].value), float(INPUT[planet]['text_rasum_uerr'].value) ]\n",
    "                        Rp_over_Rstar = [ float(INPUT[planet]['text_rr_median'].value), float(INPUT[planet]['text_rr_lerr'].value), float(INPUT[planet]['text_rr_uerr'].value) ]\n",
    "                        rasum_median, rasum_lerr, rasum_uerr = get_Rsuma_from_Rstar_over_a(Rstar_over_a, Rp_over_Rstar)\n",
    "                        rasum_err = 5.*np.max([rasum_lerr, rasum_uerr])\n",
    "                        rasum_median, rasum_err, _ = round_txt_separately(rasum_median,rasum_err,rasum_err)\n",
    "\n",
    "                    elif INPUT[planet]['dropdown_rasum'].value=='a / R_star':\n",
    "                        a_over_Rstar = [ float(INPUT[planet]['text_rasum_median'].value), float(INPUT[planet]['text_rasum_lerr'].value), float(INPUT[planet]['text_rasum_uerr'].value) ]\n",
    "                        Rp_over_Rstar = [ float(INPUT[planet]['text_rr_median'].value), float(INPUT[planet]['text_rr_lerr'].value), float(INPUT[planet]['text_rr_uerr'].value) ]\n",
    "                        rasum_median, rasum_lerr, rasum_uerr = get_Rsuma_from_a_over_Rstar(a_over_Rstar, Rp_over_Rstar)\n",
    "                        rasum_err = 5.*np.max([rasum_lerr, rasum_uerr])\n",
    "                        rasum_median, rasum_err, _ = round_txt_separately(rasum_median,rasum_err,rasum_err)\n",
    "\n",
    "                    fwrite_params(planet+'_rsuma,'+rasum_median+','+str(int(INPUT[planet]['checkbox_rasum'].value))+',trunc_normal 0 1 '+rasum_median+' '+rasum_err+',$(R_\\star + R_'+planet+') / a_'+planet+'$,')\n",
    "\n",
    "\n",
    "                #::: cosi\n",
    "                if INPUT[planet]['dropdown_incl'].value=='cos(i)':\n",
    "                    cosi_median, cosi_err = get_median_and_error_strings(INPUT[planet]['text_incl_median'], INPUT[planet]['text_incl_lerr'], INPUT[planet]['text_incl_uerr'])\n",
    "\n",
    "                elif INPUT[planet]['dropdown_incl'].value=='i (degree)':\n",
    "                    incl = [ float(INPUT[planet]['text_incl_median'].value), float(INPUT[planet]['text_incl_lerr'].value), float(INPUT[planet]['text_incl_uerr'].value) ]\n",
    "                    cosi_median, cosi_lerr, cosi_uerr = get_cosi_from_i(incl)\n",
    "                    cosi_err = 5.*np.max([cosi_lerr, cosi_uerr])\n",
    "                    cosi_median, cosi_err, _ = round_txt_separately(cosi_median,cosi_err,cosi_err)\n",
    "                    \n",
    "                elif INPUT[planet]['dropdown_incl'].value=='i (rad)':\n",
    "                    incl = [ float(INPUT[planet]['text_incl_median'].value)/180.*np.pi, float(INPUT[planet]['text_incl_lerr'].value)/180.*np.pi, float(INPUT[planet]['text_incl_uerr'].value)/180.*np.pi ]\n",
    "                    cosi_median, cosi_lerr, cosi_uerr = get_cosi_from_i(incl)\n",
    "                    cosi_err = 5.*np.max([cosi_lerr, cosi_uerr])\n",
    "                    cosi_median, cosierr, _ = round_txt_separately(cosi_median,cosi_err,cosi_err)\n",
    "\n",
    "                fwrite_params(planet+'_cosi,'+cosi_median+','+str(int(INPUT[planet]['checkbox_incl'].value))+',trunc_normal 0 1 '+cosi_median+' '+cosi_err+',$\\cos{i_'+planet+'}$,')\n",
    "\n",
    "\n",
    "                #::: epoch\n",
    "                epoch_median, epoch_err = get_median_and_error_strings(INPUT[planet]['text_epoch_median'], INPUT[planet]['text_epoch_lerr'], INPUT[planet]['text_epoch_uerr'])\n",
    "                fwrite_params(planet+'_epoch,'+epoch_median+','+str(int(INPUT[planet]['checkbox_epoch'].value))+',trunc_normal 0 1e12 '+epoch_median+' '+epoch_err+',$T_{0;'+planet+'}$,$\\mathrm{BJD}$')\n",
    "\n",
    "\n",
    "                #::: period\n",
    "                period_median, period_err = get_median_and_error_strings(INPUT[planet]['text_period_median'], INPUT[planet]['text_period_lerr'], INPUT[planet]['text_period_uerr'])\n",
    "                fwrite_params(planet+'_period,'+period_median+','+str(int(INPUT[planet]['checkbox_period'].value))+',trunc_normal 0 1e12 '+period_median+' '+period_err+',$P_'+planet+'$,$\\mathrm{d}$')\n",
    "            \n",
    "                \n",
    "                #::: RV semi-amplitude\n",
    "                if planet in planets_rv:\n",
    "                    K_median, K_err = get_median_and_error_strings(INPUT[planet]['text_K_median'], INPUT[planet]['text_K_lerr'], INPUT[planet]['text_K_uerr'])\n",
    "                    fwrite_params(planet+'_K,'+K_median+','+str(int(INPUT[planet]['checkbox_K'].value))+',trunc_normal 0 1e12 '+K_median+' '+K_err+',$K_'+planet+'$,$\\mathrm{km/s}$')\n",
    "\n",
    "                              \n",
    "                #::: eccentricity f_c\n",
    "                f_c_median, f_c_err = get_median_and_error_strings(INPUT[planet]['text_f_c_median'], INPUT[planet]['text_f_c_lerr'], INPUT[planet]['text_f_c_uerr'])\n",
    "                fwrite_params(planet+'_f_c,'+f_c_median+','+str(int(INPUT[planet]['checkbox_f_c'].value))+',trunc_normal -1 1 '+f_c_median+' '+f_c_err+',$\\sqrt{e_'+planet+'} \\cos{\\omega_'+planet+'}$,')\n",
    "                              \n",
    "                              \n",
    "                #::: eccentricity f_s\n",
    "                f_s_median, f_s_err = get_median_and_error_strings(INPUT[planet]['text_f_s_median'], INPUT[planet]['text_f_s_lerr'], INPUT[planet]['text_f_s_uerr'])\n",
    "                fwrite_params(planet+'_f_s,'+f_s_median+','+str(int(INPUT[planet]['checkbox_f_s'].value))+',trunc_normal -1 1 '+f_s_median+' '+f_s_err+',$\\sqrt{e_'+planet+'} \\sin{\\omega_'+planet+'}$,')\n",
    "\n",
    "\n",
    "                \n",
    "            #::: TTV per instrument\n",
    "            if len(inst_phot):\n",
    "                fwrite_params('#TTV per data set,,,,,')\n",
    "                for inst in inst_phot:\n",
    "                    fwrite_params('ttv_'+inst+',0,0,normal 0 0.0035,$TTV_\\mathrm{'+inst+'}$,') #default: 5 minutes\n",
    "                    \n",
    "                    \n",
    "                \n",
    "            #::: errors and baselines - set 0 values to start with\n",
    "            \n",
    "            #::: errors\n",
    "            for inst in inst_phot:\n",
    "                INPUT['log_err_flux_'+inst+'_median'] = 0\n",
    "                INPUT['log_err_flux_'+inst+'_err'] = 0\n",
    "                INPUT['log_err_flux_'+inst+'_fit'] = 0\n",
    "            for inst in inst_rv:\n",
    "                INPUT['log_jitter_rv_'+inst+'_median'] = 0\n",
    "                INPUT['log_jitter_rv_'+inst+'_err'] = 0\n",
    "                INPUT['log_jitter_rv_'+inst+'_fit'] = 0\n",
    "            #::: baselines\n",
    "            for inst in inst_phot:\n",
    "                INPUT['baseline_gp1_flux_'+inst+'_median'] = 0\n",
    "                INPUT['baseline_gp1_flux_'+inst+'_err'] = 0\n",
    "                INPUT['baseline_gp1_flux_'+inst+'_fit'] = 0\n",
    "                INPUT['baseline_gp2_flux_'+inst+'_median'] = 0\n",
    "                INPUT['baseline_gp2_flux_'+inst+'_err'] = 0\n",
    "                INPUT['baseline_gp2_flux_'+inst+'_fit'] = 0\n",
    "    \n",
    "            N_default_rows = 0\n",
    "            #::: errors per instrument\n",
    "            fwrite_params('#errors per instrument,')\n",
    "            N_default_rows += 1\n",
    "            for inst in inst_phot:\n",
    "                fwrite_params('log_err_flux_'+inst+','+str(INPUT['log_err_flux_'+inst+'_median'])+','+str(INPUT['log_err_flux_'+inst+'_fit'])+',trunc_normal -23 0 '+str(INPUT['log_err_flux_'+inst+'_median'])+' '+str(INPUT['log_err_flux_'+inst+'_err'])+',$\\log{\\sigma_\\mathrm{'+inst+'}}$,')\n",
    "                N_default_rows += 1\n",
    "                \n",
    "            for inst in inst_rv:\n",
    "                fwrite_params('log_jitter_rv_'+inst+','+str(INPUT['log_jitter_rv_'+inst+'_median'])+','+str(INPUT['log_jitter_rv_'+inst+'_fit'])+',trunc_normal -23 0 '+str(INPUT['log_jitter_rv_'+inst+'_median'])+' '+str(INPUT['log_jitter_rv_'+inst+'_err'])+',$\\log{\\sigma_\\mathrm{jitter; '+inst+'}}$,')\n",
    "                N_default_rows += 1\n",
    "                \n",
    "            #::: baseline\n",
    "            fwrite_params('#baseline per instrument,')\n",
    "            N_default_rows += 1\n",
    "            for inst in inst_phot:\n",
    "                fwrite_params('baseline_gp1_flux_'+inst+','+str(INPUT['baseline_gp1_flux_'+inst+'_median'])+','+str(INPUT['baseline_gp1_flux_'+inst+'_fit'])+',trunc_normal -23 23 '+str(INPUT['baseline_gp1_flux_'+inst+'_median'])+' '+str(INPUT['baseline_gp1_flux_'+inst+'_err'])+',$\\mathrm{gp: \\log{\\sigma} ('+inst+')}$,')\n",
    "                fwrite_params('baseline_gp2_flux_'+inst+','+str(INPUT['baseline_gp2_flux_'+inst+'_median'])+','+str(INPUT['baseline_gp2_flux_'+inst+'_fit'])+',trunc_normal -23 23 '+str(INPUT['baseline_gp2_flux_'+inst+'_median'])+' '+str(INPUT['baseline_gp2_flux_'+inst+'_err'])+',$\\mathrm{gp: \\log{\\\\rho} ('+inst+')}$,')\n",
    "                N_default_rows += 2\n",
    "                              \n",
    "            \n",
    "            \n",
    "            #::: errors and baselines - now, only if requested, estimate the priors properly\n",
    "            if checkbox_estimate_errors_and_baselines.value==True:\n",
    "                print('\\nEstimating errors and baselines... this will take a couple of minutes. Please be patient, you will get notified once everything is completed.\\n')\n",
    "                \n",
    "                #::: run MCMC fit to estimate errors and baselines\n",
    "                estimate_noise(INPUT['datadir'])\n",
    "                \n",
    "                #::: delete the rows containing the default (zero) errors and baselines from the params.csv file\n",
    "                clean_up_csv( os.path.join( INPUT['datadir'], 'params.csv' ), N_last_rows=N_default_rows )\n",
    "                    \n",
    "                    \n",
    "                #::: write new rows into params.csv\n",
    "                #::: errors\n",
    "                fwrite_params('#errors per instrument,')\n",
    "                \n",
    "                for i, inst in enumerate(inst_phot):         \n",
    "                    #::: read in the summary file\n",
    "                    summaryfile = os.path.join( INPUT['datadir'], 'priors', 'summary_phot.csv' )\n",
    "                    priors2 = np.genfromtxt(summaryfile, names=True, delimiter=',', dtype=None)\n",
    "                    priors = {}\n",
    "                    for key in priors2.dtype.names:\n",
    "                        priors[key] = np.atleast_1d(priors2[key])\n",
    "                \n",
    "                    median = priors['log_yerr_median'][i]\n",
    "                    err = 5.*np.max([ float(priors['log_yerr_ll'][i]), float(priors['log_yerr_ul'][i]) ])\n",
    "                    median, err, _ = round_txt_separately(median,err,err)\n",
    "                    fwrite_params('log_err_flux_'+inst+','+median+',1,trunc_normal -23 0 '+median+' '+err+',$\\log{\\sigma_\\mathrm{'+inst+'}}$,')\n",
    "                \n",
    "                for i, inst in enumerate(inst_rv):   \n",
    "                    #::: read in the summary file\n",
    "                    summaryfile = os.path.join( INPUT['datadir'], 'priors', 'summary_rv.csv' )\n",
    "                    priors2 = np.genfromtxt(summaryfile, names=True, delimiter=',', dtype=None)\n",
    "                    priors = {}\n",
    "                    for key in priors2.dtype.names:\n",
    "                        priors[key] = np.atleast_1d(priors2[key])\n",
    "                        \n",
    "                    median = priors['log_yerr_median'][i]\n",
    "                    err = 5.*np.max([ float(priors['log_yerr_ll'][i]), float(priors['log_yerr_ul'][i]) ])\n",
    "                    median, err, _ = round_txt_separately(median,err,err)\n",
    "                    fwrite_params('log_jitter_rv_'+inst+','+median+',1,trunc_normal -23 0 '+median+' '+err+',$\\log{\\sigma_\\mathrm{jitter; '+inst+'}}$,')\n",
    "                \n",
    "                \n",
    "                #::: write new rows into params.csv\n",
    "                #::: baselines\n",
    "                fwrite_params('#baseline per instrument,')\n",
    "                    \n",
    "                for i, inst in enumerate(inst_phot):         \n",
    "                    #::: read in the summary file\n",
    "                    summaryfile = os.path.join( INPUT['datadir'], 'priors', 'summary_phot.csv' )\n",
    "                    priors2 = np.genfromtxt(summaryfile, names=True, delimiter=',', dtype=None)\n",
    "                    priors = {}\n",
    "                    for key in priors2.dtype.names:\n",
    "                        priors[key] = np.atleast_1d(priors2[key])\n",
    "                    \n",
    "                    median = priors['gp_log_sigma_median'][i]\n",
    "                    err = 5.*np.max([ float(priors['gp_log_sigma_ll'][i]), float(priors['gp_log_sigma_ul'][i]) ])\n",
    "                    median, err, _ = round_txt_separately(median,err,err)\n",
    "                    fwrite_params('baseline_gp1_flux_'+inst+','+median+',1,trunc_normal -23 23 '+median+' '+err+',$\\mathrm{gp: \\log{\\sigma} ('+inst+')}$,')\n",
    "\n",
    "                    median = priors['gp_log_rho_median'][i]\n",
    "                    err = 5.*np.max([ float(priors['gp_log_rho_ll'][i]), float(priors['gp_log_rho_ul'][i]) ])\n",
    "                    median, err, _ = round_txt_separately(median,err,err)\n",
    "                    fwrite_params('baseline_gp2_flux_'+inst+','+median+',1,trunc_normal -23 23 '+median+' '+err+',$\\mathrm{gp: \\log{\\\\rho} ('+inst+')}$,')\n",
    "                    \n",
    "            \n",
    "            \n",
    "                              \n",
    "            button_create_params_file.style.button_color = 'lightgreen'  \n",
    "            print('\\nDone.')\n",
    "            INPUT['show_step_5'] = True\n",
    "            display(Javascript('IPython.notebook.execute_cell_range(IPython.notebook.get_selected_index()+1, IPython.notebook.ncells())'))\n",
    "            \n",
    "            if nan_fields:\n",
    "                warnings.warn('You left some fields empty. These will be set NaN in params.csv. Make sure to fix this manually later.')\n",
    "                \n",
    "                \n",
    "            \n",
    "\n",
    "    button_create_params_file.on_click(create_params_file)"
   ]
  },
  {
   "cell_type": "markdown",
   "metadata": {},
   "source": [
    "# 5) run the fit"
   ]
  },
  {
   "cell_type": "code",
   "execution_count": 25,
   "metadata": {},
   "outputs": [
    {
     "data": {
      "application/vnd.jupyter.widget-view+json": {
       "model_id": "fdd032a57c9d43cdaff15cc64b27cdef",
       "version_major": 2,
       "version_minor": 0
      },
      "text/plain": [
       "SEJveChjaGlsZHJlbj0oQnV0dG9uKGRlc2NyaXB0aW9uPXUnUnVuIE5TIGZpdCcsIHN0eWxlPUJ1dHRvblN0eWxlKCkpLCBCdXR0b24oZGVzY3JpcHRpb249dSdSdW4gTUNNQyBmaXQnLCBzdHnigKY=\n"
      ]
     },
     "metadata": {},
     "output_type": "display_data"
    }
   ],
   "source": [
    "if INPUT['show_step_5'] == False:\n",
    "    print('Complete steps 1) to 4) first.')\n",
    "\n",
    "else:\n",
    "    button_run_ns_fit = widgets.Button(description='Run NS fit', button_style='')\n",
    "    button_run_mcmc_fit = widgets.Button(description='Run MCMC fit', button_style='')\n",
    "    hbox = widgets.HBox([button_run_ns_fit, button_run_mcmc_fit])\n",
    "    display(hbox)\n",
    "    \n",
    "    def run_ns_fit(change):\n",
    "        button_run_ns_fit.style.button_color = 'lightgreen'\n",
    "        allesfitter.ns_fit(INPUT['datadir'])\n",
    "        allesfitter.ns_output(INPUT['datadir'])\n",
    "    \n",
    "    def run_mcmc_fit(change):\n",
    "        button_run_mcmc_fit.style.button_color = 'lightgreen'\n",
    "        allesfitter.mcmc_fit(INPUT['datadir'])\n",
    "        allesfitter.mcmc_output(INPUT['datadir'])\n",
    "        \n",
    "    button_run_ns_fit.on_click(run_ns_fit)\n",
    "    button_run_mcmc_fit.on_click(run_mcmc_fit)"
   ]
  },
  {
   "cell_type": "code",
   "execution_count": null,
   "metadata": {},
   "outputs": [],
   "source": []
  }
 ],
 "metadata": {
  "kernelspec": {
   "display_name": "Python 2",
   "language": "python",
   "name": "python2"
  },
  "language_info": {
   "codemirror_mode": {
    "name": "ipython",
    "version": 2
   },
   "file_extension": ".py",
   "mimetype": "text/x-python",
   "name": "python",
   "nbconvert_exporter": "python",
   "pygments_lexer": "ipython2",
   "version": "2.7.15"
  }
 },
 "nbformat": 4,
 "nbformat_minor": 2
}
