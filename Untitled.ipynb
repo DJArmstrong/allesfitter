{
 "cells": [
  {
   "cell_type": "code",
   "execution_count": 1,
   "metadata": {},
   "outputs": [
    {
     "data": {
      "application/vnd.jupyter.widget-view+json": {
       "model_id": "4e037ce6dbdd444a80a44d60acbbf938",
       "version_major": 2,
       "version_minor": 0
      },
      "text/plain": [
       "VkJveChjaGlsZHJlbj0oVGV4dCh2YWx1ZT11JycsIGRlc2NyaXB0aW9uPXUnRmlyc3Q6JyksIFRleHQodmFsdWU9dScnLCBkZXNjcmlwdGlvbj11J0xhc3Q6JyksIENoZWNrYm94KHZhbHVlPUbigKY=\n"
      ]
     },
     "metadata": {},
     "output_type": "display_data"
    }
   ],
   "source": [
    "import ipywidgets as widgets\n",
    "from IPython.display import display\n",
    "\n",
    "form = widgets.VBox()\n",
    "first = widgets.Text(description=\"First:\")\n",
    "last = widgets.Text(description=\"Last:\")\n",
    "\n",
    "student = widgets.Checkbox(description=\"Student:\", value=False)\n",
    "school_info = widgets.VBox(children=[\n",
    "    widgets.Text(description=\"School:\"),\n",
    "    widgets.IntText(description=\"Grade:\", min=0, max=12)\n",
    "    ])\n",
    "school_info.layout.display = 'none'\n",
    "\n",
    "pet = widgets.Text(description=\"Pet:\")\n",
    "form.children = [first, last, student, school_info, pet]\n",
    "display(form)\n",
    "\n",
    "def on_student_toggle(change):\n",
    "    if change['new']:\n",
    "        school_info.layout.display = ''\n",
    "    else:\n",
    "        school_info.layout.display = 'none'\n",
    "\n",
    "student.observe(on_student_toggle, names='value')\n",
    "\n"
   ]
  }
 ],
 "metadata": {
  "kernelspec": {
   "display_name": "Python 2",
   "language": "python",
   "name": "python2"
  },
  "language_info": {
   "codemirror_mode": {
    "name": "ipython",
    "version": 2
   },
   "file_extension": ".py",
   "mimetype": "text/x-python",
   "name": "python",
   "nbconvert_exporter": "python",
   "pygments_lexer": "ipython2",
   "version": "2.7.15"
  }
 },
 "nbformat": 4,
 "nbformat_minor": 2
}
